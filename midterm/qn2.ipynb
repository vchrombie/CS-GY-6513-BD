{
 "cells": [
  {
   "cell_type": "code",
   "execution_count": 1,
   "id": "ac4bef6e",
   "metadata": {},
   "outputs": [
    {
     "name": "stderr",
     "output_type": "stream",
     "text": [
      "Setting default log level to \"WARN\".\n",
      "To adjust logging level use sc.setLogLevel(newLevel). For SparkR, use setLogLevel(newLevel).\n"
     ]
    },
    {
     "name": "stdout",
     "output_type": "stream",
     "text": [
      "23/04/02 02:31:55 WARN NativeCodeLoader: Unable to load native-hadoop library for your platform... using builtin-java classes where applicable\n"
     ]
    },
    {
     "data": {
      "text/html": [
       "\n",
       "            <div>\n",
       "                <p><b>SparkSession - in-memory</b></p>\n",
       "                \n",
       "        <div>\n",
       "            <p><b>SparkContext</b></p>\n",
       "\n",
       "            <p><a href=\"http://jupyter-vt2182:4040\">Spark UI</a></p>\n",
       "\n",
       "            <dl>\n",
       "              <dt>Version</dt>\n",
       "                <dd><code>v3.3.1</code></dd>\n",
       "              <dt>Master</dt>\n",
       "                <dd><code>local[*]</code></dd>\n",
       "              <dt>AppName</dt>\n",
       "                <dd><code>pyspark-shell</code></dd>\n",
       "            </dl>\n",
       "        </div>\n",
       "        \n",
       "            </div>\n",
       "        "
      ],
      "text/plain": [
       "<pyspark.sql.session.SparkSession at 0x7f625c4712a0>"
      ]
     },
     "execution_count": 1,
     "metadata": {},
     "output_type": "execute_result"
    }
   ],
   "source": [
    "import os\n",
    "import pyspark\n",
    "conf = pyspark.SparkConf()\n",
    "conf.set('spark.ui.proxyBase', '/user/' + os.environ['JUPYTERHUB_USER'] + '/proxy/4040')\n",
    "\n",
    "sc = pyspark.SparkContext(conf=conf)\n",
    "spark = pyspark.sql.SparkSession(sc)\n",
    "spark"
   ]
  },
  {
   "cell_type": "code",
   "execution_count": 2,
   "id": "57bc7bb0",
   "metadata": {},
   "outputs": [],
   "source": [
    "from pybloom import BloomFilter, ScalableBloomFilter\n",
    "from pyspark.sql.functions import *\n",
    "from pyspark.sql.types import BooleanType"
   ]
  },
  {
   "cell_type": "code",
   "execution_count": 3,
   "id": "e37d0cad",
   "metadata": {},
   "outputs": [
    {
     "name": "stderr",
     "output_type": "stream",
     "text": [
      "                                                                                \r"
     ]
    },
    {
     "name": "stdout",
     "output_type": "stream",
     "text": [
      "root\n",
      " |-- date: string (nullable = true)\n",
      " |-- serial_number: string (nullable = true)\n",
      " |-- model: string (nullable = true)\n",
      " |-- capacity_bytes: string (nullable = true)\n",
      " |-- failure: string (nullable = true)\n",
      " |-- smart_1_normalized: string (nullable = true)\n",
      " |-- smart_1_raw: string (nullable = true)\n",
      " |-- smart_2_normalized: string (nullable = true)\n",
      " |-- smart_2_raw: string (nullable = true)\n",
      " |-- smart_3_normalized: string (nullable = true)\n",
      " |-- smart_3_raw: string (nullable = true)\n",
      " |-- smart_4_normalized: string (nullable = true)\n",
      " |-- smart_4_raw: string (nullable = true)\n",
      " |-- smart_5_normalized: string (nullable = true)\n",
      " |-- smart_5_raw: string (nullable = true)\n",
      " |-- smart_7_normalized: string (nullable = true)\n",
      " |-- smart_7_raw: string (nullable = true)\n",
      " |-- smart_8_normalized: string (nullable = true)\n",
      " |-- smart_8_raw: string (nullable = true)\n",
      " |-- smart_9_normalized: string (nullable = true)\n",
      " |-- smart_9_raw: string (nullable = true)\n",
      " |-- smart_10_normalized: string (nullable = true)\n",
      " |-- smart_10_raw: string (nullable = true)\n",
      " |-- smart_11_normalized: string (nullable = true)\n",
      " |-- smart_11_raw: string (nullable = true)\n",
      " |-- smart_12_normalized: string (nullable = true)\n",
      " |-- smart_12_raw: string (nullable = true)\n",
      " |-- smart_13_normalized: string (nullable = true)\n",
      " |-- smart_13_raw: string (nullable = true)\n",
      " |-- smart_15_normalized: string (nullable = true)\n",
      " |-- smart_15_raw: string (nullable = true)\n",
      " |-- smart_16_normalized: string (nullable = true)\n",
      " |-- smart_16_raw: string (nullable = true)\n",
      " |-- smart_17_normalized: string (nullable = true)\n",
      " |-- smart_17_raw: string (nullable = true)\n",
      " |-- smart_22_normalized: string (nullable = true)\n",
      " |-- smart_22_raw: string (nullable = true)\n",
      " |-- smart_23_normalized: string (nullable = true)\n",
      " |-- smart_23_raw: string (nullable = true)\n",
      " |-- smart_24_normalized: string (nullable = true)\n",
      " |-- smart_24_raw: string (nullable = true)\n",
      " |-- smart_168_normalized: string (nullable = true)\n",
      " |-- smart_168_raw: string (nullable = true)\n",
      " |-- smart_170_normalized: string (nullable = true)\n",
      " |-- smart_170_raw: string (nullable = true)\n",
      " |-- smart_173_normalized: string (nullable = true)\n",
      " |-- smart_173_raw: string (nullable = true)\n",
      " |-- smart_174_normalized: string (nullable = true)\n",
      " |-- smart_174_raw: string (nullable = true)\n",
      " |-- smart_177_normalized: string (nullable = true)\n",
      " |-- smart_177_raw: string (nullable = true)\n",
      " |-- smart_179_normalized: string (nullable = true)\n",
      " |-- smart_179_raw: string (nullable = true)\n",
      " |-- smart_181_normalized: string (nullable = true)\n",
      " |-- smart_181_raw: string (nullable = true)\n",
      " |-- smart_182_normalized: string (nullable = true)\n",
      " |-- smart_182_raw: string (nullable = true)\n",
      " |-- smart_183_normalized: string (nullable = true)\n",
      " |-- smart_183_raw: string (nullable = true)\n",
      " |-- smart_184_normalized: string (nullable = true)\n",
      " |-- smart_184_raw: string (nullable = true)\n",
      " |-- smart_187_normalized: string (nullable = true)\n",
      " |-- smart_187_raw: string (nullable = true)\n",
      " |-- smart_188_normalized: string (nullable = true)\n",
      " |-- smart_188_raw: string (nullable = true)\n",
      " |-- smart_189_normalized: string (nullable = true)\n",
      " |-- smart_189_raw: string (nullable = true)\n",
      " |-- smart_190_normalized: string (nullable = true)\n",
      " |-- smart_190_raw: string (nullable = true)\n",
      " |-- smart_191_normalized: string (nullable = true)\n",
      " |-- smart_191_raw: string (nullable = true)\n",
      " |-- smart_192_normalized: string (nullable = true)\n",
      " |-- smart_192_raw: string (nullable = true)\n",
      " |-- smart_193_normalized: string (nullable = true)\n",
      " |-- smart_193_raw: string (nullable = true)\n",
      " |-- smart_194_normalized: string (nullable = true)\n",
      " |-- smart_194_raw: string (nullable = true)\n",
      " |-- smart_195_normalized: string (nullable = true)\n",
      " |-- smart_195_raw: string (nullable = true)\n",
      " |-- smart_196_normalized: string (nullable = true)\n",
      " |-- smart_196_raw: string (nullable = true)\n",
      " |-- smart_197_normalized: string (nullable = true)\n",
      " |-- smart_197_raw: string (nullable = true)\n",
      " |-- smart_198_normalized: string (nullable = true)\n",
      " |-- smart_198_raw: string (nullable = true)\n",
      " |-- smart_199_normalized: string (nullable = true)\n",
      " |-- smart_199_raw: string (nullable = true)\n",
      " |-- smart_200_normalized: string (nullable = true)\n",
      " |-- smart_200_raw: string (nullable = true)\n",
      " |-- smart_201_normalized: string (nullable = true)\n",
      " |-- smart_201_raw: string (nullable = true)\n",
      " |-- smart_218_normalized: string (nullable = true)\n",
      " |-- smart_218_raw: string (nullable = true)\n",
      " |-- smart_220_normalized: string (nullable = true)\n",
      " |-- smart_220_raw: string (nullable = true)\n",
      " |-- smart_222_normalized: string (nullable = true)\n",
      " |-- smart_222_raw: string (nullable = true)\n",
      " |-- smart_223_normalized: string (nullable = true)\n",
      " |-- smart_223_raw: string (nullable = true)\n",
      " |-- smart_224_normalized: string (nullable = true)\n",
      " |-- smart_224_raw: string (nullable = true)\n",
      " |-- smart_225_normalized: string (nullable = true)\n",
      " |-- smart_225_raw: string (nullable = true)\n",
      " |-- smart_226_normalized: string (nullable = true)\n",
      " |-- smart_226_raw: string (nullable = true)\n",
      " |-- smart_231_normalized: string (nullable = true)\n",
      " |-- smart_231_raw: string (nullable = true)\n",
      " |-- smart_232_normalized: string (nullable = true)\n",
      " |-- smart_232_raw: string (nullable = true)\n",
      " |-- smart_233_normalized: string (nullable = true)\n",
      " |-- smart_233_raw: string (nullable = true)\n",
      " |-- smart_235_normalized: string (nullable = true)\n",
      " |-- smart_235_raw: string (nullable = true)\n",
      " |-- smart_240_normalized: string (nullable = true)\n",
      " |-- smart_240_raw: string (nullable = true)\n",
      " |-- smart_241_normalized: string (nullable = true)\n",
      " |-- smart_241_raw: string (nullable = true)\n",
      " |-- smart_242_normalized: string (nullable = true)\n",
      " |-- smart_242_raw: string (nullable = true)\n",
      " |-- smart_250_normalized: string (nullable = true)\n",
      " |-- smart_250_raw: string (nullable = true)\n",
      " |-- smart_251_normalized: string (nullable = true)\n",
      " |-- smart_251_raw: string (nullable = true)\n",
      " |-- smart_252_normalized: string (nullable = true)\n",
      " |-- smart_252_raw: string (nullable = true)\n",
      " |-- smart_254_normalized: string (nullable = true)\n",
      " |-- smart_254_raw: string (nullable = true)\n",
      " |-- smart_255_normalized: string (nullable = true)\n",
      " |-- smart_255_raw: string (nullable = true)\n",
      "\n",
      "23/04/02 02:32:21 WARN package: Truncated the string representation of a plan since it was too large. This behavior can be adjusted by setting 'spark.sql.debug.maxToStringFields'.\n"
     ]
    },
    {
     "name": "stderr",
     "output_type": "stream",
     "text": [
      "                                                                                \r"
     ]
    },
    {
     "data": {
      "text/plain": [
       "Row(date='2019-03-05', serial_number='Z305B2QN', model='ST4000DM000', capacity_bytes='4000787030016', failure='0', smart_1_normalized='117', smart_1_raw='166138696', smart_2_normalized=None, smart_2_raw=None, smart_3_normalized='91', smart_3_raw='0', smart_4_normalized='100', smart_4_raw='12', smart_5_normalized='100', smart_5_raw='0', smart_7_normalized='85', smart_7_raw='374504040', smart_8_normalized=None, smart_8_raw=None, smart_9_normalized='68', smart_9_raw='28210', smart_10_normalized='100', smart_10_raw='0', smart_11_normalized=None, smart_11_raw=None, smart_12_normalized='100', smart_12_raw='12', smart_13_normalized=None, smart_13_raw=None, smart_15_normalized=None, smart_15_raw=None, smart_16_normalized=None, smart_16_raw=None, smart_17_normalized=None, smart_17_raw=None, smart_22_normalized=None, smart_22_raw=None, smart_23_normalized=None, smart_23_raw=None, smart_24_normalized=None, smart_24_raw=None, smart_168_normalized=None, smart_168_raw=None, smart_170_normalized=None, smart_170_raw=None, smart_173_normalized=None, smart_173_raw=None, smart_174_normalized=None, smart_174_raw=None, smart_177_normalized=None, smart_177_raw=None, smart_179_normalized=None, smart_179_raw=None, smart_181_normalized=None, smart_181_raw=None, smart_182_normalized=None, smart_182_raw=None, smart_183_normalized='100', smart_183_raw='0', smart_184_normalized='100', smart_184_raw='0', smart_187_normalized='100', smart_187_raw='0', smart_188_normalized='100', smart_188_raw='0', smart_189_normalized='100', smart_189_raw='0', smart_190_normalized='79', smart_190_raw='21', smart_191_normalized='100', smart_191_raw='0', smart_192_normalized='100', smart_192_raw='0', smart_193_normalized='83', smart_193_raw='34169', smart_194_normalized='21', smart_194_raw='21', smart_195_normalized=None, smart_195_raw=None, smart_196_normalized=None, smart_196_raw=None, smart_197_normalized='100', smart_197_raw='0', smart_198_normalized='100', smart_198_raw='0', smart_199_normalized='200', smart_199_raw='0', smart_200_normalized=None, smart_200_raw=None, smart_201_normalized=None, smart_201_raw=None, smart_218_normalized=None, smart_218_raw=None, smart_220_normalized=None, smart_220_raw=None, smart_222_normalized=None, smart_222_raw=None, smart_223_normalized=None, smart_223_raw=None, smart_224_normalized=None, smart_224_raw=None, smart_225_normalized=None, smart_225_raw=None, smart_226_normalized=None, smart_226_raw=None, smart_231_normalized=None, smart_231_raw=None, smart_232_normalized=None, smart_232_raw=None, smart_233_normalized=None, smart_233_raw=None, smart_235_normalized=None, smart_235_raw=None, smart_240_normalized='100', smart_240_raw='27958', smart_241_normalized='100', smart_241_raw='46679245872', smart_242_normalized='100', smart_242_raw='126633298532', smart_250_normalized=None, smart_250_raw=None, smart_251_normalized=None, smart_251_raw=None, smart_252_normalized=None, smart_252_raw=None, smart_254_normalized=None, smart_254_raw=None, smart_255_normalized=None, smart_255_raw=None)"
      ]
     },
     "execution_count": 3,
     "metadata": {},
     "output_type": "execute_result"
    }
   ],
   "source": [
    "# Read the CSV files\n",
    "df = spark.read.option(\"header\", \"true\").csv(\"../shared/midterm/drive_stats_2019_Q1/*.csv\")\n",
    "\n",
    "df.printSchema()\n",
    "df.head()"
   ]
  },
  {
   "cell_type": "code",
   "execution_count": 4,
   "id": "b67b691b",
   "metadata": {},
   "outputs": [
    {
     "name": "stderr",
     "output_type": "stream",
     "text": [
      "                                                                                \r"
     ]
    },
    {
     "data": {
      "text/plain": [
       "9577046"
      ]
     },
     "execution_count": 4,
     "metadata": {},
     "output_type": "execute_result"
    }
   ],
   "source": [
    "df.count()"
   ]
  },
  {
   "cell_type": "code",
   "execution_count": 5,
   "id": "55f30581",
   "metadata": {},
   "outputs": [
    {
     "name": "stdout",
     "output_type": "stream",
     "text": [
      "+----------+--------------+--------------------+--------------+-------+------------------+-----------+------------------+-----------+------------------+-----------+------------------+-----------+------------------+-----------+------------------+-----------+------------------+-----------+------------------+-----------+-------------------+------------+-------------------+------------+-------------------+------------+-------------------+------------+-------------------+------------+-------------------+------------+-------------------+------------+-------------------+------------+-------------------+------------+-------------------+------------+--------------------+-------------+--------------------+-------------+--------------------+-------------+--------------------+-------------+--------------------+-------------+--------------------+-------------+--------------------+-------------+--------------------+-------------+--------------------+-------------+--------------------+-------------+--------------------+-------------+--------------------+-------------+--------------------+-------------+--------------------+-------------+--------------------+-------------+--------------------+-------------+--------------------+-------------+--------------------+-------------+--------------------+-------------+--------------------+-------------+--------------------+-------------+--------------------+-------------+--------------------+-------------+--------------------+-------------+--------------------+-------------+--------------------+-------------+--------------------+-------------+--------------------+-------------+--------------------+-------------+--------------------+-------------+--------------------+-------------+--------------------+-------------+--------------------+-------------+--------------------+-------------+--------------------+-------------+--------------------+-------------+--------------------+-------------+--------------------+-------------+--------------------+-------------+--------------------+-------------+--------------------+-------------+--------------------+-------------+--------------------+-------------+--------------------+-------------+\n",
      "|      date| serial_number|               model|capacity_bytes|failure|smart_1_normalized|smart_1_raw|smart_2_normalized|smart_2_raw|smart_3_normalized|smart_3_raw|smart_4_normalized|smart_4_raw|smart_5_normalized|smart_5_raw|smart_7_normalized|smart_7_raw|smart_8_normalized|smart_8_raw|smart_9_normalized|smart_9_raw|smart_10_normalized|smart_10_raw|smart_11_normalized|smart_11_raw|smart_12_normalized|smart_12_raw|smart_13_normalized|smart_13_raw|smart_15_normalized|smart_15_raw|smart_16_normalized|smart_16_raw|smart_17_normalized|smart_17_raw|smart_22_normalized|smart_22_raw|smart_23_normalized|smart_23_raw|smart_24_normalized|smart_24_raw|smart_168_normalized|smart_168_raw|smart_170_normalized|smart_170_raw|smart_173_normalized|smart_173_raw|smart_174_normalized|smart_174_raw|smart_177_normalized|smart_177_raw|smart_179_normalized|smart_179_raw|smart_181_normalized|smart_181_raw|smart_182_normalized|smart_182_raw|smart_183_normalized|smart_183_raw|smart_184_normalized|smart_184_raw|smart_187_normalized|smart_187_raw|smart_188_normalized|smart_188_raw|smart_189_normalized|smart_189_raw|smart_190_normalized|smart_190_raw|smart_191_normalized|smart_191_raw|smart_192_normalized|smart_192_raw|smart_193_normalized|smart_193_raw|smart_194_normalized|smart_194_raw|smart_195_normalized|smart_195_raw|smart_196_normalized|smart_196_raw|smart_197_normalized|smart_197_raw|smart_198_normalized|smart_198_raw|smart_199_normalized|smart_199_raw|smart_200_normalized|smart_200_raw|smart_201_normalized|smart_201_raw|smart_218_normalized|smart_218_raw|smart_220_normalized|smart_220_raw|smart_222_normalized|smart_222_raw|smart_223_normalized|smart_223_raw|smart_224_normalized|smart_224_raw|smart_225_normalized|smart_225_raw|smart_226_normalized|smart_226_raw|smart_231_normalized|smart_231_raw|smart_232_normalized|smart_232_raw|smart_233_normalized|smart_233_raw|smart_235_normalized|smart_235_raw|smart_240_normalized|smart_240_raw|smart_241_normalized|smart_241_raw|smart_242_normalized|smart_242_raw|smart_250_normalized|smart_250_raw|smart_251_normalized|smart_251_raw|smart_252_normalized|smart_252_raw|smart_254_normalized|smart_254_raw|smart_255_normalized|smart_255_raw|\n",
      "+----------+--------------+--------------------+--------------+-------+------------------+-----------+------------------+-----------+------------------+-----------+------------------+-----------+------------------+-----------+------------------+-----------+------------------+-----------+------------------+-----------+-------------------+------------+-------------------+------------+-------------------+------------+-------------------+------------+-------------------+------------+-------------------+------------+-------------------+------------+-------------------+------------+-------------------+------------+-------------------+------------+--------------------+-------------+--------------------+-------------+--------------------+-------------+--------------------+-------------+--------------------+-------------+--------------------+-------------+--------------------+-------------+--------------------+-------------+--------------------+-------------+--------------------+-------------+--------------------+-------------+--------------------+-------------+--------------------+-------------+--------------------+-------------+--------------------+-------------+--------------------+-------------+--------------------+-------------+--------------------+-------------+--------------------+-------------+--------------------+-------------+--------------------+-------------+--------------------+-------------+--------------------+-------------+--------------------+-------------+--------------------+-------------+--------------------+-------------+--------------------+-------------+--------------------+-------------+--------------------+-------------+--------------------+-------------+--------------------+-------------+--------------------+-------------+--------------------+-------------+--------------------+-------------+--------------------+-------------+--------------------+-------------+--------------------+-------------+--------------------+-------------+--------------------+-------------+--------------------+-------------+--------------------+-------------+--------------------+-------------+--------------------+-------------+--------------------+-------------+\n",
      "|2019-03-05|      Z305B2QN|         ST4000DM000| 4000787030016|      0|               117|  166138696|              null|       null|                91|          0|               100|         12|               100|          0|                85|  374504040|              null|       null|                68|      28210|                100|           0|               null|        null|                100|          12|               null|        null|               null|        null|               null|        null|               null|        null|               null|        null|               null|        null|               null|        null|                null|         null|                null|         null|                null|         null|                null|         null|                null|         null|                null|         null|                null|         null|                null|         null|                 100|            0|                 100|            0|                 100|            0|                 100|            0|                 100|            0|                  79|           21|                 100|            0|                 100|            0|                  83|        34169|                  21|           21|                null|         null|                null|         null|                 100|            0|                 100|            0|                 200|            0|                null|         null|                null|         null|                null|         null|                null|         null|                null|         null|                null|         null|                null|         null|                null|         null|                null|         null|                null|         null|                null|         null|                null|         null|                null|         null|                 100|        27958|                 100|  46679245872|                 100| 126633298532|                null|         null|                null|         null|                null|         null|                null|         null|                null|         null|\n",
      "|2019-03-05|      ZJV0XJQ4|       ST12000NM0007|12000138625024|      0|                80|   99748000|              null|       null|                98|          0|               100|          2|               100|          0|                88|  632611962|              null|       null|                94|       5256|                100|           0|               null|        null|                100|           2|               null|        null|               null|        null|               null|        null|               null|        null|               null|        null|               null|        null|               null|        null|                null|         null|                null|         null|                null|         null|                null|         null|                null|         null|                null|         null|                null|         null|                null|         null|                null|         null|                null|         null|                 100|            0|                 100|            0|                null|         null|                  71|           29|                null|         null|                 100|           61|                  99|         2209|                  29|           29|                  80|     99748000|                null|         null|                 100|            0|                 100|            0|                 200|            0|                 100|            0|                null|         null|                null|         null|                null|         null|                null|         null|                null|         null|                null|         null|                null|         null|                null|         null|                null|         null|                null|         null|                null|         null|                null|         null|                 100|         4516|                 100|  35287679872|                 100|  51482097080|                null|         null|                null|         null|                null|         null|                null|         null|                null|         null|\n",
      "|2019-03-05|      ZJV0XJQ3|       ST12000NM0007|12000138625024|      0|                83|  180239600|              null|       null|                99|          0|               100|          1|               100|          0|                83|  195497158|              null|       null|                98|       2303|                100|           0|               null|        null|                100|           1|               null|        null|               null|        null|               null|        null|               null|        null|               null|        null|               null|        null|               null|        null|                null|         null|                null|         null|                null|         null|                null|         null|                null|         null|                null|         null|                null|         null|                null|         null|                null|         null|                null|         null|                 100|            0|                 100|            0|                null|         null|                  65|           35|                null|         null|                 100|           26|                 100|         1394|                  35|           35|                  83|    180239600|                null|         null|                 100|            0|                 100|            0|                 200|            0|                 100|            0|                null|         null|                null|         null|                null|         null|                null|         null|                null|         null|                null|         null|                null|         null|                null|         null|                null|         null|                null|         null|                null|         null|                null|         null|                 100|         2027|                 100|  22250828840|                 100|   3075966074|                null|         null|                null|         null|                null|         null|                null|         null|                null|         null|\n",
      "|2019-03-05|      ZJV0XJQ0|       ST12000NM0007|12000138625024|      0|                81|  112931984|              null|       null|                93|          0|               100|          6|               100|          0|                89|  741763013|              null|       null|                94|       5856|                100|           0|               null|        null|                100|           6|               null|        null|               null|        null|               null|        null|               null|        null|               null|        null|               null|        null|               null|        null|                null|         null|                null|         null|                null|         null|                null|         null|                null|         null|                null|         null|                null|         null|                null|         null|                null|         null|                null|         null|                 100|            0|                 100|            0|                null|         null|                  77|           23|                null|         null|                 100|           57|                 100|          750|                  23|           23|                  81|    112931984|                null|         null|                 100|            0|                 100|            0|                 200|            0|                 100|            0|                null|         null|                null|         null|                null|         null|                null|         null|                null|         null|                null|         null|                null|         null|                null|         null|                null|         null|                null|         null|                null|         null|                null|         null|                 100|         5659|                 100|  38863346144|                 100|  50361007264|                null|         null|                null|         null|                null|         null|                null|         null|                null|         null|\n",
      "|2019-03-05|PL1331LAHG1S4H|HGST HMS5C4040ALE640| 4000787030016|      0|               100|          0|               134|        103|               100|        436|               100|          9|               100|          0|               100|          0|               113|         42|                98|      18286|                100|           0|               null|        null|                100|           9|               null|        null|               null|        null|               null|        null|               null|        null|               null|        null|               null|        null|               null|        null|                null|         null|                null|         null|                null|         null|                null|         null|                null|         null|                null|         null|                null|         null|                null|         null|                null|         null|                null|         null|                null|         null|                null|         null|                null|         null|                null|         null|                null|         null|                 100|          239|                 100|          239|                 187|           32|                null|         null|                 100|            0|                 100|            0|                 100|            0|                 200|            0|                null|         null|                null|         null|                null|         null|                null|         null|                null|         null|                null|         null|                null|         null|                null|         null|                null|         null|                null|         null|                null|         null|                null|         null|                null|         null|                null|         null|                null|         null|                null|         null|                null|         null|                null|         null|                null|         null|                null|         null|                null|         null|\n",
      "+----------+--------------+--------------------+--------------+-------+------------------+-----------+------------------+-----------+------------------+-----------+------------------+-----------+------------------+-----------+------------------+-----------+------------------+-----------+------------------+-----------+-------------------+------------+-------------------+------------+-------------------+------------+-------------------+------------+-------------------+------------+-------------------+------------+-------------------+------------+-------------------+------------+-------------------+------------+-------------------+------------+--------------------+-------------+--------------------+-------------+--------------------+-------------+--------------------+-------------+--------------------+-------------+--------------------+-------------+--------------------+-------------+--------------------+-------------+--------------------+-------------+--------------------+-------------+--------------------+-------------+--------------------+-------------+--------------------+-------------+--------------------+-------------+--------------------+-------------+--------------------+-------------+--------------------+-------------+--------------------+-------------+--------------------+-------------+--------------------+-------------+--------------------+-------------+--------------------+-------------+--------------------+-------------+--------------------+-------------+--------------------+-------------+--------------------+-------------+--------------------+-------------+--------------------+-------------+--------------------+-------------+--------------------+-------------+--------------------+-------------+--------------------+-------------+--------------------+-------------+--------------------+-------------+--------------------+-------------+--------------------+-------------+--------------------+-------------+--------------------+-------------+--------------------+-------------+--------------------+-------------+--------------------+-------------+--------------------+-------------+--------------------+-------------+--------------------+-------------+\n",
      "only showing top 5 rows\n",
      "\n"
     ]
    }
   ],
   "source": [
    "df.show(5)"
   ]
  },
  {
   "cell_type": "code",
   "execution_count": 6,
   "id": "e72500a5",
   "metadata": {},
   "outputs": [
    {
     "name": "stdout",
     "output_type": "stream",
     "text": [
      "root\n",
      " |-- date: date (nullable = true)\n",
      " |-- serial_number: string (nullable = true)\n",
      " |-- model: string (nullable = true)\n",
      " |-- capacity_bytes: string (nullable = true)\n",
      " |-- failure: string (nullable = true)\n",
      " |-- smart_1_normalized: string (nullable = true)\n",
      " |-- smart_1_raw: string (nullable = true)\n",
      " |-- smart_2_normalized: string (nullable = true)\n",
      " |-- smart_2_raw: string (nullable = true)\n",
      " |-- smart_3_normalized: string (nullable = true)\n",
      " |-- smart_3_raw: string (nullable = true)\n",
      " |-- smart_4_normalized: string (nullable = true)\n",
      " |-- smart_4_raw: string (nullable = true)\n",
      " |-- smart_5_normalized: string (nullable = true)\n",
      " |-- smart_5_raw: string (nullable = true)\n",
      " |-- smart_7_normalized: string (nullable = true)\n",
      " |-- smart_7_raw: string (nullable = true)\n",
      " |-- smart_8_normalized: string (nullable = true)\n",
      " |-- smart_8_raw: string (nullable = true)\n",
      " |-- smart_9_normalized: string (nullable = true)\n",
      " |-- smart_9_raw: string (nullable = true)\n",
      " |-- smart_10_normalized: string (nullable = true)\n",
      " |-- smart_10_raw: string (nullable = true)\n",
      " |-- smart_11_normalized: string (nullable = true)\n",
      " |-- smart_11_raw: string (nullable = true)\n",
      " |-- smart_12_normalized: string (nullable = true)\n",
      " |-- smart_12_raw: string (nullable = true)\n",
      " |-- smart_13_normalized: string (nullable = true)\n",
      " |-- smart_13_raw: string (nullable = true)\n",
      " |-- smart_15_normalized: string (nullable = true)\n",
      " |-- smart_15_raw: string (nullable = true)\n",
      " |-- smart_16_normalized: string (nullable = true)\n",
      " |-- smart_16_raw: string (nullable = true)\n",
      " |-- smart_17_normalized: string (nullable = true)\n",
      " |-- smart_17_raw: string (nullable = true)\n",
      " |-- smart_22_normalized: string (nullable = true)\n",
      " |-- smart_22_raw: string (nullable = true)\n",
      " |-- smart_23_normalized: string (nullable = true)\n",
      " |-- smart_23_raw: string (nullable = true)\n",
      " |-- smart_24_normalized: string (nullable = true)\n",
      " |-- smart_24_raw: string (nullable = true)\n",
      " |-- smart_168_normalized: string (nullable = true)\n",
      " |-- smart_168_raw: string (nullable = true)\n",
      " |-- smart_170_normalized: string (nullable = true)\n",
      " |-- smart_170_raw: string (nullable = true)\n",
      " |-- smart_173_normalized: string (nullable = true)\n",
      " |-- smart_173_raw: string (nullable = true)\n",
      " |-- smart_174_normalized: string (nullable = true)\n",
      " |-- smart_174_raw: string (nullable = true)\n",
      " |-- smart_177_normalized: string (nullable = true)\n",
      " |-- smart_177_raw: string (nullable = true)\n",
      " |-- smart_179_normalized: string (nullable = true)\n",
      " |-- smart_179_raw: string (nullable = true)\n",
      " |-- smart_181_normalized: string (nullable = true)\n",
      " |-- smart_181_raw: string (nullable = true)\n",
      " |-- smart_182_normalized: string (nullable = true)\n",
      " |-- smart_182_raw: string (nullable = true)\n",
      " |-- smart_183_normalized: string (nullable = true)\n",
      " |-- smart_183_raw: string (nullable = true)\n",
      " |-- smart_184_normalized: string (nullable = true)\n",
      " |-- smart_184_raw: string (nullable = true)\n",
      " |-- smart_187_normalized: string (nullable = true)\n",
      " |-- smart_187_raw: string (nullable = true)\n",
      " |-- smart_188_normalized: string (nullable = true)\n",
      " |-- smart_188_raw: string (nullable = true)\n",
      " |-- smart_189_normalized: string (nullable = true)\n",
      " |-- smart_189_raw: string (nullable = true)\n",
      " |-- smart_190_normalized: string (nullable = true)\n",
      " |-- smart_190_raw: string (nullable = true)\n",
      " |-- smart_191_normalized: string (nullable = true)\n",
      " |-- smart_191_raw: string (nullable = true)\n",
      " |-- smart_192_normalized: string (nullable = true)\n",
      " |-- smart_192_raw: string (nullable = true)\n",
      " |-- smart_193_normalized: string (nullable = true)\n",
      " |-- smart_193_raw: string (nullable = true)\n",
      " |-- smart_194_normalized: string (nullable = true)\n",
      " |-- smart_194_raw: string (nullable = true)\n",
      " |-- smart_195_normalized: string (nullable = true)\n",
      " |-- smart_195_raw: string (nullable = true)\n",
      " |-- smart_196_normalized: string (nullable = true)\n",
      " |-- smart_196_raw: string (nullable = true)\n",
      " |-- smart_197_normalized: string (nullable = true)\n",
      " |-- smart_197_raw: string (nullable = true)\n",
      " |-- smart_198_normalized: string (nullable = true)\n",
      " |-- smart_198_raw: string (nullable = true)\n",
      " |-- smart_199_normalized: string (nullable = true)\n",
      " |-- smart_199_raw: string (nullable = true)\n",
      " |-- smart_200_normalized: string (nullable = true)\n",
      " |-- smart_200_raw: string (nullable = true)\n",
      " |-- smart_201_normalized: string (nullable = true)\n",
      " |-- smart_201_raw: string (nullable = true)\n",
      " |-- smart_218_normalized: string (nullable = true)\n",
      " |-- smart_218_raw: string (nullable = true)\n",
      " |-- smart_220_normalized: string (nullable = true)\n",
      " |-- smart_220_raw: string (nullable = true)\n",
      " |-- smart_222_normalized: string (nullable = true)\n",
      " |-- smart_222_raw: string (nullable = true)\n",
      " |-- smart_223_normalized: string (nullable = true)\n",
      " |-- smart_223_raw: string (nullable = true)\n",
      " |-- smart_224_normalized: string (nullable = true)\n",
      " |-- smart_224_raw: string (nullable = true)\n",
      " |-- smart_225_normalized: string (nullable = true)\n",
      " |-- smart_225_raw: string (nullable = true)\n",
      " |-- smart_226_normalized: string (nullable = true)\n",
      " |-- smart_226_raw: string (nullable = true)\n",
      " |-- smart_231_normalized: string (nullable = true)\n",
      " |-- smart_231_raw: string (nullable = true)\n",
      " |-- smart_232_normalized: string (nullable = true)\n",
      " |-- smart_232_raw: string (nullable = true)\n",
      " |-- smart_233_normalized: string (nullable = true)\n",
      " |-- smart_233_raw: string (nullable = true)\n",
      " |-- smart_235_normalized: string (nullable = true)\n",
      " |-- smart_235_raw: string (nullable = true)\n",
      " |-- smart_240_normalized: string (nullable = true)\n",
      " |-- smart_240_raw: string (nullable = true)\n",
      " |-- smart_241_normalized: string (nullable = true)\n",
      " |-- smart_241_raw: string (nullable = true)\n",
      " |-- smart_242_normalized: string (nullable = true)\n",
      " |-- smart_242_raw: string (nullable = true)\n",
      " |-- smart_250_normalized: string (nullable = true)\n",
      " |-- smart_250_raw: string (nullable = true)\n",
      " |-- smart_251_normalized: string (nullable = true)\n",
      " |-- smart_251_raw: string (nullable = true)\n",
      " |-- smart_252_normalized: string (nullable = true)\n",
      " |-- smart_252_raw: string (nullable = true)\n",
      " |-- smart_254_normalized: string (nullable = true)\n",
      " |-- smart_254_raw: string (nullable = true)\n",
      " |-- smart_255_normalized: string (nullable = true)\n",
      " |-- smart_255_raw: string (nullable = true)\n",
      "\n"
     ]
    },
    {
     "data": {
      "text/plain": [
       "Row(date=datetime.date(2019, 3, 5), serial_number='Z305B2QN', model='ST4000DM000', capacity_bytes='4000787030016', failure='0', smart_1_normalized='117', smart_1_raw='166138696', smart_2_normalized=None, smart_2_raw=None, smart_3_normalized='91', smart_3_raw='0', smart_4_normalized='100', smart_4_raw='12', smart_5_normalized='100', smart_5_raw='0', smart_7_normalized='85', smart_7_raw='374504040', smart_8_normalized=None, smart_8_raw=None, smart_9_normalized='68', smart_9_raw='28210', smart_10_normalized='100', smart_10_raw='0', smart_11_normalized=None, smart_11_raw=None, smart_12_normalized='100', smart_12_raw='12', smart_13_normalized=None, smart_13_raw=None, smart_15_normalized=None, smart_15_raw=None, smart_16_normalized=None, smart_16_raw=None, smart_17_normalized=None, smart_17_raw=None, smart_22_normalized=None, smart_22_raw=None, smart_23_normalized=None, smart_23_raw=None, smart_24_normalized=None, smart_24_raw=None, smart_168_normalized=None, smart_168_raw=None, smart_170_normalized=None, smart_170_raw=None, smart_173_normalized=None, smart_173_raw=None, smart_174_normalized=None, smart_174_raw=None, smart_177_normalized=None, smart_177_raw=None, smart_179_normalized=None, smart_179_raw=None, smart_181_normalized=None, smart_181_raw=None, smart_182_normalized=None, smart_182_raw=None, smart_183_normalized='100', smart_183_raw='0', smart_184_normalized='100', smart_184_raw='0', smart_187_normalized='100', smart_187_raw='0', smart_188_normalized='100', smart_188_raw='0', smart_189_normalized='100', smart_189_raw='0', smart_190_normalized='79', smart_190_raw='21', smart_191_normalized='100', smart_191_raw='0', smart_192_normalized='100', smart_192_raw='0', smart_193_normalized='83', smart_193_raw='34169', smart_194_normalized='21', smart_194_raw='21', smart_195_normalized=None, smart_195_raw=None, smart_196_normalized=None, smart_196_raw=None, smart_197_normalized='100', smart_197_raw='0', smart_198_normalized='100', smart_198_raw='0', smart_199_normalized='200', smart_199_raw='0', smart_200_normalized=None, smart_200_raw=None, smart_201_normalized=None, smart_201_raw=None, smart_218_normalized=None, smart_218_raw=None, smart_220_normalized=None, smart_220_raw=None, smart_222_normalized=None, smart_222_raw=None, smart_223_normalized=None, smart_223_raw=None, smart_224_normalized=None, smart_224_raw=None, smart_225_normalized=None, smart_225_raw=None, smart_226_normalized=None, smart_226_raw=None, smart_231_normalized=None, smart_231_raw=None, smart_232_normalized=None, smart_232_raw=None, smart_233_normalized=None, smart_233_raw=None, smart_235_normalized=None, smart_235_raw=None, smart_240_normalized='100', smart_240_raw='27958', smart_241_normalized='100', smart_241_raw='46679245872', smart_242_normalized='100', smart_242_raw='126633298532', smart_250_normalized=None, smart_250_raw=None, smart_251_normalized=None, smart_251_raw=None, smart_252_normalized=None, smart_252_raw=None, smart_254_normalized=None, smart_254_raw=None, smart_255_normalized=None, smart_255_raw=None)"
      ]
     },
     "execution_count": 6,
     "metadata": {},
     "output_type": "execute_result"
    }
   ],
   "source": [
    "df = df.withColumn('date', df['date'].cast('date'))\n",
    "\n",
    "df.printSchema()\n",
    "df.head()"
   ]
  },
  {
   "cell_type": "code",
   "execution_count": 7,
   "id": "a2ee3961",
   "metadata": {},
   "outputs": [
    {
     "name": "stderr",
     "output_type": "stream",
     "text": [
      "                                                                                \r"
     ]
    },
    {
     "data": {
      "text/plain": [
       "9577046"
      ]
     },
     "execution_count": 7,
     "metadata": {},
     "output_type": "execute_result"
    }
   ],
   "source": [
    "df.count()"
   ]
  },
  {
   "cell_type": "code",
   "execution_count": 8,
   "id": "a9e49e69",
   "metadata": {},
   "outputs": [
    {
     "name": "stdout",
     "output_type": "stream",
     "text": [
      "+----------+--------------+--------------------+--------------+-------+------------------+-----------+------------------+-----------+------------------+-----------+------------------+-----------+------------------+-----------+------------------+-----------+------------------+-----------+------------------+-----------+-------------------+------------+-------------------+------------+-------------------+------------+-------------------+------------+-------------------+------------+-------------------+------------+-------------------+------------+-------------------+------------+-------------------+------------+-------------------+------------+--------------------+-------------+--------------------+-------------+--------------------+-------------+--------------------+-------------+--------------------+-------------+--------------------+-------------+--------------------+-------------+--------------------+-------------+--------------------+-------------+--------------------+-------------+--------------------+-------------+--------------------+-------------+--------------------+-------------+--------------------+-------------+--------------------+-------------+--------------------+-------------+--------------------+-------------+--------------------+-------------+--------------------+-------------+--------------------+-------------+--------------------+-------------+--------------------+-------------+--------------------+-------------+--------------------+-------------+--------------------+-------------+--------------------+-------------+--------------------+-------------+--------------------+-------------+--------------------+-------------+--------------------+-------------+--------------------+-------------+--------------------+-------------+--------------------+-------------+--------------------+-------------+--------------------+-------------+--------------------+-------------+--------------------+-------------+--------------------+-------------+--------------------+-------------+--------------------+-------------+--------------------+-------------+--------------------+-------------+--------------------+-------------+--------------------+-------------+\n",
      "|      date| serial_number|               model|capacity_bytes|failure|smart_1_normalized|smart_1_raw|smart_2_normalized|smart_2_raw|smart_3_normalized|smart_3_raw|smart_4_normalized|smart_4_raw|smart_5_normalized|smart_5_raw|smart_7_normalized|smart_7_raw|smart_8_normalized|smart_8_raw|smart_9_normalized|smart_9_raw|smart_10_normalized|smart_10_raw|smart_11_normalized|smart_11_raw|smart_12_normalized|smart_12_raw|smart_13_normalized|smart_13_raw|smart_15_normalized|smart_15_raw|smart_16_normalized|smart_16_raw|smart_17_normalized|smart_17_raw|smart_22_normalized|smart_22_raw|smart_23_normalized|smart_23_raw|smart_24_normalized|smart_24_raw|smart_168_normalized|smart_168_raw|smart_170_normalized|smart_170_raw|smart_173_normalized|smart_173_raw|smart_174_normalized|smart_174_raw|smart_177_normalized|smart_177_raw|smart_179_normalized|smart_179_raw|smart_181_normalized|smart_181_raw|smart_182_normalized|smart_182_raw|smart_183_normalized|smart_183_raw|smart_184_normalized|smart_184_raw|smart_187_normalized|smart_187_raw|smart_188_normalized|smart_188_raw|smart_189_normalized|smart_189_raw|smart_190_normalized|smart_190_raw|smart_191_normalized|smart_191_raw|smart_192_normalized|smart_192_raw|smart_193_normalized|smart_193_raw|smart_194_normalized|smart_194_raw|smart_195_normalized|smart_195_raw|smart_196_normalized|smart_196_raw|smart_197_normalized|smart_197_raw|smart_198_normalized|smart_198_raw|smart_199_normalized|smart_199_raw|smart_200_normalized|smart_200_raw|smart_201_normalized|smart_201_raw|smart_218_normalized|smart_218_raw|smart_220_normalized|smart_220_raw|smart_222_normalized|smart_222_raw|smart_223_normalized|smart_223_raw|smart_224_normalized|smart_224_raw|smart_225_normalized|smart_225_raw|smart_226_normalized|smart_226_raw|smart_231_normalized|smart_231_raw|smart_232_normalized|smart_232_raw|smart_233_normalized|smart_233_raw|smart_235_normalized|smart_235_raw|smart_240_normalized|smart_240_raw|smart_241_normalized|smart_241_raw|smart_242_normalized|smart_242_raw|smart_250_normalized|smart_250_raw|smart_251_normalized|smart_251_raw|smart_252_normalized|smart_252_raw|smart_254_normalized|smart_254_raw|smart_255_normalized|smart_255_raw|\n",
      "+----------+--------------+--------------------+--------------+-------+------------------+-----------+------------------+-----------+------------------+-----------+------------------+-----------+------------------+-----------+------------------+-----------+------------------+-----------+------------------+-----------+-------------------+------------+-------------------+------------+-------------------+------------+-------------------+------------+-------------------+------------+-------------------+------------+-------------------+------------+-------------------+------------+-------------------+------------+-------------------+------------+--------------------+-------------+--------------------+-------------+--------------------+-------------+--------------------+-------------+--------------------+-------------+--------------------+-------------+--------------------+-------------+--------------------+-------------+--------------------+-------------+--------------------+-------------+--------------------+-------------+--------------------+-------------+--------------------+-------------+--------------------+-------------+--------------------+-------------+--------------------+-------------+--------------------+-------------+--------------------+-------------+--------------------+-------------+--------------------+-------------+--------------------+-------------+--------------------+-------------+--------------------+-------------+--------------------+-------------+--------------------+-------------+--------------------+-------------+--------------------+-------------+--------------------+-------------+--------------------+-------------+--------------------+-------------+--------------------+-------------+--------------------+-------------+--------------------+-------------+--------------------+-------------+--------------------+-------------+--------------------+-------------+--------------------+-------------+--------------------+-------------+--------------------+-------------+--------------------+-------------+--------------------+-------------+--------------------+-------------+--------------------+-------------+--------------------+-------------+\n",
      "|2019-03-05|      Z305B2QN|         ST4000DM000| 4000787030016|      0|               117|  166138696|              null|       null|                91|          0|               100|         12|               100|          0|                85|  374504040|              null|       null|                68|      28210|                100|           0|               null|        null|                100|          12|               null|        null|               null|        null|               null|        null|               null|        null|               null|        null|               null|        null|               null|        null|                null|         null|                null|         null|                null|         null|                null|         null|                null|         null|                null|         null|                null|         null|                null|         null|                 100|            0|                 100|            0|                 100|            0|                 100|            0|                 100|            0|                  79|           21|                 100|            0|                 100|            0|                  83|        34169|                  21|           21|                null|         null|                null|         null|                 100|            0|                 100|            0|                 200|            0|                null|         null|                null|         null|                null|         null|                null|         null|                null|         null|                null|         null|                null|         null|                null|         null|                null|         null|                null|         null|                null|         null|                null|         null|                null|         null|                 100|        27958|                 100|  46679245872|                 100| 126633298532|                null|         null|                null|         null|                null|         null|                null|         null|                null|         null|\n",
      "|2019-03-05|      ZJV0XJQ4|       ST12000NM0007|12000138625024|      0|                80|   99748000|              null|       null|                98|          0|               100|          2|               100|          0|                88|  632611962|              null|       null|                94|       5256|                100|           0|               null|        null|                100|           2|               null|        null|               null|        null|               null|        null|               null|        null|               null|        null|               null|        null|               null|        null|                null|         null|                null|         null|                null|         null|                null|         null|                null|         null|                null|         null|                null|         null|                null|         null|                null|         null|                null|         null|                 100|            0|                 100|            0|                null|         null|                  71|           29|                null|         null|                 100|           61|                  99|         2209|                  29|           29|                  80|     99748000|                null|         null|                 100|            0|                 100|            0|                 200|            0|                 100|            0|                null|         null|                null|         null|                null|         null|                null|         null|                null|         null|                null|         null|                null|         null|                null|         null|                null|         null|                null|         null|                null|         null|                null|         null|                 100|         4516|                 100|  35287679872|                 100|  51482097080|                null|         null|                null|         null|                null|         null|                null|         null|                null|         null|\n",
      "|2019-03-05|      ZJV0XJQ3|       ST12000NM0007|12000138625024|      0|                83|  180239600|              null|       null|                99|          0|               100|          1|               100|          0|                83|  195497158|              null|       null|                98|       2303|                100|           0|               null|        null|                100|           1|               null|        null|               null|        null|               null|        null|               null|        null|               null|        null|               null|        null|               null|        null|                null|         null|                null|         null|                null|         null|                null|         null|                null|         null|                null|         null|                null|         null|                null|         null|                null|         null|                null|         null|                 100|            0|                 100|            0|                null|         null|                  65|           35|                null|         null|                 100|           26|                 100|         1394|                  35|           35|                  83|    180239600|                null|         null|                 100|            0|                 100|            0|                 200|            0|                 100|            0|                null|         null|                null|         null|                null|         null|                null|         null|                null|         null|                null|         null|                null|         null|                null|         null|                null|         null|                null|         null|                null|         null|                null|         null|                 100|         2027|                 100|  22250828840|                 100|   3075966074|                null|         null|                null|         null|                null|         null|                null|         null|                null|         null|\n",
      "|2019-03-05|      ZJV0XJQ0|       ST12000NM0007|12000138625024|      0|                81|  112931984|              null|       null|                93|          0|               100|          6|               100|          0|                89|  741763013|              null|       null|                94|       5856|                100|           0|               null|        null|                100|           6|               null|        null|               null|        null|               null|        null|               null|        null|               null|        null|               null|        null|               null|        null|                null|         null|                null|         null|                null|         null|                null|         null|                null|         null|                null|         null|                null|         null|                null|         null|                null|         null|                null|         null|                 100|            0|                 100|            0|                null|         null|                  77|           23|                null|         null|                 100|           57|                 100|          750|                  23|           23|                  81|    112931984|                null|         null|                 100|            0|                 100|            0|                 200|            0|                 100|            0|                null|         null|                null|         null|                null|         null|                null|         null|                null|         null|                null|         null|                null|         null|                null|         null|                null|         null|                null|         null|                null|         null|                null|         null|                 100|         5659|                 100|  38863346144|                 100|  50361007264|                null|         null|                null|         null|                null|         null|                null|         null|                null|         null|\n",
      "|2019-03-05|PL1331LAHG1S4H|HGST HMS5C4040ALE640| 4000787030016|      0|               100|          0|               134|        103|               100|        436|               100|          9|               100|          0|               100|          0|               113|         42|                98|      18286|                100|           0|               null|        null|                100|           9|               null|        null|               null|        null|               null|        null|               null|        null|               null|        null|               null|        null|               null|        null|                null|         null|                null|         null|                null|         null|                null|         null|                null|         null|                null|         null|                null|         null|                null|         null|                null|         null|                null|         null|                null|         null|                null|         null|                null|         null|                null|         null|                null|         null|                 100|          239|                 100|          239|                 187|           32|                null|         null|                 100|            0|                 100|            0|                 100|            0|                 200|            0|                null|         null|                null|         null|                null|         null|                null|         null|                null|         null|                null|         null|                null|         null|                null|         null|                null|         null|                null|         null|                null|         null|                null|         null|                null|         null|                null|         null|                null|         null|                null|         null|                null|         null|                null|         null|                null|         null|                null|         null|                null|         null|\n",
      "+----------+--------------+--------------------+--------------+-------+------------------+-----------+------------------+-----------+------------------+-----------+------------------+-----------+------------------+-----------+------------------+-----------+------------------+-----------+------------------+-----------+-------------------+------------+-------------------+------------+-------------------+------------+-------------------+------------+-------------------+------------+-------------------+------------+-------------------+------------+-------------------+------------+-------------------+------------+-------------------+------------+--------------------+-------------+--------------------+-------------+--------------------+-------------+--------------------+-------------+--------------------+-------------+--------------------+-------------+--------------------+-------------+--------------------+-------------+--------------------+-------------+--------------------+-------------+--------------------+-------------+--------------------+-------------+--------------------+-------------+--------------------+-------------+--------------------+-------------+--------------------+-------------+--------------------+-------------+--------------------+-------------+--------------------+-------------+--------------------+-------------+--------------------+-------------+--------------------+-------------+--------------------+-------------+--------------------+-------------+--------------------+-------------+--------------------+-------------+--------------------+-------------+--------------------+-------------+--------------------+-------------+--------------------+-------------+--------------------+-------------+--------------------+-------------+--------------------+-------------+--------------------+-------------+--------------------+-------------+--------------------+-------------+--------------------+-------------+--------------------+-------------+--------------------+-------------+--------------------+-------------+--------------------+-------------+--------------------+-------------+--------------------+-------------+--------------------+-------------+\n",
      "only showing top 5 rows\n",
      "\n"
     ]
    }
   ],
   "source": [
    "df.show(5)"
   ]
  },
  {
   "cell_type": "code",
   "execution_count": 9,
   "id": "c3b5441b",
   "metadata": {},
   "outputs": [],
   "source": [
    "# Split the dataset by month: January, February and March\n",
    "\n",
    "df_jan = df.filter(month(df['date']) == 1)\n",
    "df_feb = df.filter(month(df['date']) == 2)\n",
    "df_mar = df.filter(month(df['date']) == 3)"
   ]
  },
  {
   "cell_type": "code",
   "execution_count": 10,
   "id": "36549067",
   "metadata": {},
   "outputs": [
    {
     "name": "stdout",
     "output_type": "stream",
     "text": [
      "root\n",
      " |-- date: date (nullable = true)\n",
      " |-- serial_number: string (nullable = true)\n",
      " |-- model: string (nullable = true)\n",
      " |-- capacity_bytes: string (nullable = true)\n",
      " |-- failure: string (nullable = true)\n",
      " |-- smart_1_normalized: string (nullable = true)\n",
      " |-- smart_1_raw: string (nullable = true)\n",
      " |-- smart_2_normalized: string (nullable = true)\n",
      " |-- smart_2_raw: string (nullable = true)\n",
      " |-- smart_3_normalized: string (nullable = true)\n",
      " |-- smart_3_raw: string (nullable = true)\n",
      " |-- smart_4_normalized: string (nullable = true)\n",
      " |-- smart_4_raw: string (nullable = true)\n",
      " |-- smart_5_normalized: string (nullable = true)\n",
      " |-- smart_5_raw: string (nullable = true)\n",
      " |-- smart_7_normalized: string (nullable = true)\n",
      " |-- smart_7_raw: string (nullable = true)\n",
      " |-- smart_8_normalized: string (nullable = true)\n",
      " |-- smart_8_raw: string (nullable = true)\n",
      " |-- smart_9_normalized: string (nullable = true)\n",
      " |-- smart_9_raw: string (nullable = true)\n",
      " |-- smart_10_normalized: string (nullable = true)\n",
      " |-- smart_10_raw: string (nullable = true)\n",
      " |-- smart_11_normalized: string (nullable = true)\n",
      " |-- smart_11_raw: string (nullable = true)\n",
      " |-- smart_12_normalized: string (nullable = true)\n",
      " |-- smart_12_raw: string (nullable = true)\n",
      " |-- smart_13_normalized: string (nullable = true)\n",
      " |-- smart_13_raw: string (nullable = true)\n",
      " |-- smart_15_normalized: string (nullable = true)\n",
      " |-- smart_15_raw: string (nullable = true)\n",
      " |-- smart_16_normalized: string (nullable = true)\n",
      " |-- smart_16_raw: string (nullable = true)\n",
      " |-- smart_17_normalized: string (nullable = true)\n",
      " |-- smart_17_raw: string (nullable = true)\n",
      " |-- smart_22_normalized: string (nullable = true)\n",
      " |-- smart_22_raw: string (nullable = true)\n",
      " |-- smart_23_normalized: string (nullable = true)\n",
      " |-- smart_23_raw: string (nullable = true)\n",
      " |-- smart_24_normalized: string (nullable = true)\n",
      " |-- smart_24_raw: string (nullable = true)\n",
      " |-- smart_168_normalized: string (nullable = true)\n",
      " |-- smart_168_raw: string (nullable = true)\n",
      " |-- smart_170_normalized: string (nullable = true)\n",
      " |-- smart_170_raw: string (nullable = true)\n",
      " |-- smart_173_normalized: string (nullable = true)\n",
      " |-- smart_173_raw: string (nullable = true)\n",
      " |-- smart_174_normalized: string (nullable = true)\n",
      " |-- smart_174_raw: string (nullable = true)\n",
      " |-- smart_177_normalized: string (nullable = true)\n",
      " |-- smart_177_raw: string (nullable = true)\n",
      " |-- smart_179_normalized: string (nullable = true)\n",
      " |-- smart_179_raw: string (nullable = true)\n",
      " |-- smart_181_normalized: string (nullable = true)\n",
      " |-- smart_181_raw: string (nullable = true)\n",
      " |-- smart_182_normalized: string (nullable = true)\n",
      " |-- smart_182_raw: string (nullable = true)\n",
      " |-- smart_183_normalized: string (nullable = true)\n",
      " |-- smart_183_raw: string (nullable = true)\n",
      " |-- smart_184_normalized: string (nullable = true)\n",
      " |-- smart_184_raw: string (nullable = true)\n",
      " |-- smart_187_normalized: string (nullable = true)\n",
      " |-- smart_187_raw: string (nullable = true)\n",
      " |-- smart_188_normalized: string (nullable = true)\n",
      " |-- smart_188_raw: string (nullable = true)\n",
      " |-- smart_189_normalized: string (nullable = true)\n",
      " |-- smart_189_raw: string (nullable = true)\n",
      " |-- smart_190_normalized: string (nullable = true)\n",
      " |-- smart_190_raw: string (nullable = true)\n",
      " |-- smart_191_normalized: string (nullable = true)\n",
      " |-- smart_191_raw: string (nullable = true)\n",
      " |-- smart_192_normalized: string (nullable = true)\n",
      " |-- smart_192_raw: string (nullable = true)\n",
      " |-- smart_193_normalized: string (nullable = true)\n",
      " |-- smart_193_raw: string (nullable = true)\n",
      " |-- smart_194_normalized: string (nullable = true)\n",
      " |-- smart_194_raw: string (nullable = true)\n",
      " |-- smart_195_normalized: string (nullable = true)\n",
      " |-- smart_195_raw: string (nullable = true)\n",
      " |-- smart_196_normalized: string (nullable = true)\n",
      " |-- smart_196_raw: string (nullable = true)\n",
      " |-- smart_197_normalized: string (nullable = true)\n",
      " |-- smart_197_raw: string (nullable = true)\n",
      " |-- smart_198_normalized: string (nullable = true)\n",
      " |-- smart_198_raw: string (nullable = true)\n",
      " |-- smart_199_normalized: string (nullable = true)\n",
      " |-- smart_199_raw: string (nullable = true)\n",
      " |-- smart_200_normalized: string (nullable = true)\n",
      " |-- smart_200_raw: string (nullable = true)\n",
      " |-- smart_201_normalized: string (nullable = true)\n",
      " |-- smart_201_raw: string (nullable = true)\n",
      " |-- smart_218_normalized: string (nullable = true)\n",
      " |-- smart_218_raw: string (nullable = true)\n",
      " |-- smart_220_normalized: string (nullable = true)\n",
      " |-- smart_220_raw: string (nullable = true)\n",
      " |-- smart_222_normalized: string (nullable = true)\n",
      " |-- smart_222_raw: string (nullable = true)\n",
      " |-- smart_223_normalized: string (nullable = true)\n",
      " |-- smart_223_raw: string (nullable = true)\n",
      " |-- smart_224_normalized: string (nullable = true)\n",
      " |-- smart_224_raw: string (nullable = true)\n",
      " |-- smart_225_normalized: string (nullable = true)\n",
      " |-- smart_225_raw: string (nullable = true)\n",
      " |-- smart_226_normalized: string (nullable = true)\n",
      " |-- smart_226_raw: string (nullable = true)\n",
      " |-- smart_231_normalized: string (nullable = true)\n",
      " |-- smart_231_raw: string (nullable = true)\n",
      " |-- smart_232_normalized: string (nullable = true)\n",
      " |-- smart_232_raw: string (nullable = true)\n",
      " |-- smart_233_normalized: string (nullable = true)\n",
      " |-- smart_233_raw: string (nullable = true)\n",
      " |-- smart_235_normalized: string (nullable = true)\n",
      " |-- smart_235_raw: string (nullable = true)\n",
      " |-- smart_240_normalized: string (nullable = true)\n",
      " |-- smart_240_raw: string (nullable = true)\n",
      " |-- smart_241_normalized: string (nullable = true)\n",
      " |-- smart_241_raw: string (nullable = true)\n",
      " |-- smart_242_normalized: string (nullable = true)\n",
      " |-- smart_242_raw: string (nullable = true)\n",
      " |-- smart_250_normalized: string (nullable = true)\n",
      " |-- smart_250_raw: string (nullable = true)\n",
      " |-- smart_251_normalized: string (nullable = true)\n",
      " |-- smart_251_raw: string (nullable = true)\n",
      " |-- smart_252_normalized: string (nullable = true)\n",
      " |-- smart_252_raw: string (nullable = true)\n",
      " |-- smart_254_normalized: string (nullable = true)\n",
      " |-- smart_254_raw: string (nullable = true)\n",
      " |-- smart_255_normalized: string (nullable = true)\n",
      " |-- smart_255_raw: string (nullable = true)\n",
      "\n"
     ]
    }
   ],
   "source": [
    "df_jan.printSchema()"
   ]
  },
  {
   "cell_type": "code",
   "execution_count": 11,
   "id": "3b5c7bba",
   "metadata": {},
   "outputs": [
    {
     "name": "stderr",
     "output_type": "stream",
     "text": [
      "                                                                                \r"
     ]
    },
    {
     "data": {
      "text/plain": [
       "9577046"
      ]
     },
     "execution_count": 11,
     "metadata": {},
     "output_type": "execute_result"
    }
   ],
   "source": [
    "df_jan.count() + df_feb.count() + df_mar.count()"
   ]
  },
  {
   "cell_type": "code",
   "execution_count": 12,
   "id": "0b8db8e4",
   "metadata": {
    "scrolled": true
   },
   "outputs": [
    {
     "name": "stderr",
     "output_type": "stream",
     "text": [
      "                                                                                \r"
     ]
    },
    {
     "name": "stdout",
     "output_type": "stream",
     "text": [
      "Total actual hard drives active during Jan:  28937\n"
     ]
    },
    {
     "name": "stderr",
     "output_type": "stream",
     "text": [
      "[Stage 28:====================================================>   (28 + 2) / 30]\r"
     ]
    },
    {
     "name": "stdout",
     "output_type": "stream",
     "text": [
      "+--------------+--------------------+-----------+-------+\n",
      "| serial_number|               model|smart_1_raw|failure|\n",
      "+--------------+--------------------+-----------+-------+\n",
      "|PL1331LAGBYYVH|HGST HMS5C4040ALE640|          0|    0.0|\n",
      "|     57HBWEE5T|  TOSHIBA MQ01ABF050|          0|    0.0|\n",
      "|PL1331LAGM2UEH|HGST HMS5C4040BLE640|          0|    0.0|\n",
      "|PL2331LAHD7U9J|HGST HMS5C4040BLE640|          0|    0.0|\n",
      "|PL2331LAHAZURJ|HGST HMS5C4040BLE640|          0|    0.0|\n",
      "+--------------+--------------------+-----------+-------+\n",
      "only showing top 5 rows\n",
      "\n"
     ]
    },
    {
     "name": "stderr",
     "output_type": "stream",
     "text": [
      "                                                                                \r"
     ]
    }
   ],
   "source": [
    "# Display the total actual hard drives active during each month\n",
    "\n",
    "# assuming that the drive cannot be brought back once it goes down, failure = 1, dead forever\n",
    "# ignoring the drives which go dead at any point\n",
    "\n",
    "df_jan_status = df_jan.groupBy(col(\"serial_number\"), col(\"model\"), col(\"smart_1_raw\")).agg(sum(\"failure\").alias(\"failure\"))\n",
    "df_jan_active = df_jan_status.filter((col(\"failure\") == 0) & (col(\"smart_1_raw\") == 0))\n",
    "\n",
    "print(\"Total actual hard drives active during Jan: \", df_jan_active.count())\n",
    "df_jan_active.show(5)"
   ]
  },
  {
   "cell_type": "code",
   "execution_count": 13,
   "id": "a6458cac",
   "metadata": {},
   "outputs": [
    {
     "name": "stderr",
     "output_type": "stream",
     "text": [
      "                                                                                \r"
     ]
    },
    {
     "name": "stdout",
     "output_type": "stream",
     "text": [
      "Total actual hard drives active during Feb:  26061\n"
     ]
    },
    {
     "name": "stderr",
     "output_type": "stream",
     "text": [
      "[Stage 37:====================================================>   (28 + 2) / 30]\r"
     ]
    },
    {
     "name": "stdout",
     "output_type": "stream",
     "text": [
      "+--------------+--------------------+-----------+-------+\n",
      "| serial_number|               model|smart_1_raw|failure|\n",
      "+--------------+--------------------+-----------+-------+\n",
      "|PL1331LAGBYYVH|HGST HMS5C4040ALE640|          0|    0.0|\n",
      "|     57HBWEE5T|  TOSHIBA MQ01ABF050|          0|    0.0|\n",
      "|PL2331LAHD7U9J|HGST HMS5C4040BLE640|          0|    0.0|\n",
      "|PL2331LAHAZURJ|HGST HMS5C4040BLE640|          0|    0.0|\n",
      "|PL2331LAHBALNJ|HGST HMS5C4040BLE640|          0|    0.0|\n",
      "+--------------+--------------------+-----------+-------+\n",
      "only showing top 5 rows\n",
      "\n"
     ]
    },
    {
     "name": "stderr",
     "output_type": "stream",
     "text": [
      "                                                                                \r"
     ]
    }
   ],
   "source": [
    "df_feb_status = df_feb.groupBy(col(\"serial_number\"), col(\"model\"), col(\"smart_1_raw\")).agg(sum(\"failure\").alias(\"failure\"))\n",
    "df_feb_active = df_feb_status.filter((col(\"failure\") == 0) & (col(\"smart_1_raw\") == 0))\n",
    "\n",
    "print(\"Total actual hard drives active during Feb: \", df_feb_active.count())\n",
    "df_feb_active.show(5)"
   ]
  },
  {
   "cell_type": "code",
   "execution_count": 14,
   "id": "734627e7",
   "metadata": {},
   "outputs": [
    {
     "name": "stderr",
     "output_type": "stream",
     "text": [
      "                                                                                \r"
     ]
    },
    {
     "name": "stdout",
     "output_type": "stream",
     "text": [
      "Total actual hard drives active during Mar:  27995\n"
     ]
    },
    {
     "name": "stderr",
     "output_type": "stream",
     "text": [
      "[Stage 46:======================================================> (29 + 1) / 30]\r"
     ]
    },
    {
     "name": "stdout",
     "output_type": "stream",
     "text": [
      "+--------------+--------------------+-----------+-------+\n",
      "| serial_number|               model|smart_1_raw|failure|\n",
      "+--------------+--------------------+-----------+-------+\n",
      "|      ZA189JSN|        ST8000NM0055|          0|    0.0|\n",
      "|PL1331LAGBYYVH|HGST HMS5C4040ALE640|          0|    0.0|\n",
      "|     57HBWEE5T|  TOSHIBA MQ01ABF050|          0|    0.0|\n",
      "|PL2331LAHD7U9J|HGST HMS5C4040BLE640|          0|    0.0|\n",
      "|PL2331LAHAZURJ|HGST HMS5C4040BLE640|          0|    0.0|\n",
      "+--------------+--------------------+-----------+-------+\n",
      "only showing top 5 rows\n",
      "\n"
     ]
    },
    {
     "name": "stderr",
     "output_type": "stream",
     "text": [
      "                                                                                \r"
     ]
    }
   ],
   "source": [
    "df_mar_status = df_mar.groupBy(col(\"serial_number\"), col(\"model\"), col(\"smart_1_raw\")).agg(sum(\"failure\").alias(\"failure\"))\n",
    "df_mar_active = df_mar_status.filter((col(\"failure\") == 0) & (col(\"smart_1_raw\") == 0))\n",
    "\n",
    "print(\"Total actual hard drives active during Mar: \", df_mar_active.count())\n",
    "df_mar_active.show(5)"
   ]
  },
  {
   "cell_type": "code",
   "execution_count": 15,
   "id": "ff77d704",
   "metadata": {},
   "outputs": [
    {
     "name": "stderr",
     "output_type": "stream",
     "text": [
      "                                                                                \r"
     ]
    },
    {
     "data": {
      "text/plain": [
       "(54998, 27995)"
      ]
     },
     "execution_count": 15,
     "metadata": {},
     "output_type": "execute_result"
    }
   ],
   "source": [
    "df_jan_active.count() + df_feb_active.count(), df_mar_active.count()"
   ]
  },
  {
   "cell_type": "code",
   "execution_count": 16,
   "id": "c8f80403",
   "metadata": {},
   "outputs": [],
   "source": [
    "# Define the membership set as those hard drives (model name) with zero error rate \n",
    "# during January and February. Train a bloom filter with that set\n",
    "\n",
    "sbf = ScalableBloomFilter(mode=ScalableBloomFilter.SMALL_SET_GROWTH)"
   ]
  },
  {
   "cell_type": "code",
   "execution_count": 17,
   "id": "52d309a2",
   "metadata": {},
   "outputs": [],
   "source": [
    "df_jan_feb_active = df_jan_active.union(df_feb_active)"
   ]
  },
  {
   "cell_type": "code",
   "execution_count": 18,
   "id": "81acadf4",
   "metadata": {},
   "outputs": [
    {
     "name": "stderr",
     "output_type": "stream",
     "text": [
      "                                                                                \r"
     ]
    },
    {
     "data": {
      "text/plain": [
       "[False,\n",
       " False,\n",
       " False,\n",
       " True,\n",
       " True,\n",
       " True,\n",
       " False,\n",
       " True,\n",
       " True,\n",
       " True,\n",
       " False,\n",
       " False,\n",
       " True,\n",
       " True,\n",
       " True,\n",
       " False,\n",
       " True,\n",
       " True,\n",
       " True,\n",
       " True,\n",
       " True,\n",
       " True,\n",
       " False,\n",
       " True,\n",
       " True]"
      ]
     },
     "execution_count": 18,
     "metadata": {},
     "output_type": "execute_result"
    }
   ],
   "source": [
    "train_set = [sbf.add(row[\"model\"]) for row in df_jan_feb_active.rdd.collect()]\n",
    "train_set[:25]"
   ]
  },
  {
   "cell_type": "code",
   "execution_count": 19,
   "id": "f92c6ec7",
   "metadata": {},
   "outputs": [
    {
     "data": {
      "text/plain": [
       "54998"
      ]
     },
     "execution_count": 19,
     "metadata": {},
     "output_type": "execute_result"
    }
   ],
   "source": [
    "len(train_set)"
   ]
  },
  {
   "cell_type": "code",
   "execution_count": 20,
   "id": "9d210459",
   "metadata": {},
   "outputs": [
    {
     "name": "stderr",
     "output_type": "stream",
     "text": [
      "                                                                                \r"
     ]
    },
    {
     "data": {
      "text/plain": [
       "True"
      ]
     },
     "execution_count": 20,
     "metadata": {},
     "output_type": "execute_result"
    }
   ],
   "source": [
    "all([row[\"model\"] in sbf for row in df_jan_feb_active.rdd.collect()])"
   ]
  },
  {
   "cell_type": "code",
   "execution_count": 21,
   "id": "24d86392",
   "metadata": {},
   "outputs": [
    {
     "name": "stderr",
     "output_type": "stream",
     "text": [
      "                                                                                \r"
     ]
    },
    {
     "data": {
      "text/plain": [
       "[True,\n",
       " True,\n",
       " True,\n",
       " True,\n",
       " True,\n",
       " True,\n",
       " True,\n",
       " True,\n",
       " True,\n",
       " True,\n",
       " True,\n",
       " True,\n",
       " True,\n",
       " True,\n",
       " True,\n",
       " True,\n",
       " True,\n",
       " True,\n",
       " True,\n",
       " True,\n",
       " True,\n",
       " False,\n",
       " True,\n",
       " True,\n",
       " True]"
      ]
     },
     "execution_count": 21,
     "metadata": {},
     "output_type": "execute_result"
    }
   ],
   "source": [
    "# Test the March drives for set membership\n",
    "\n",
    "test_set = [(row[\"model\"] in sbf) for row in df_mar_active.rdd.collect()]\n",
    "test_set[:25]"
   ]
  },
  {
   "cell_type": "code",
   "execution_count": 22,
   "id": "aec34052",
   "metadata": {},
   "outputs": [
    {
     "data": {
      "text/plain": [
       "27995"
      ]
     },
     "execution_count": 22,
     "metadata": {},
     "output_type": "execute_result"
    }
   ],
   "source": [
    "len(test_set)"
   ]
  },
  {
   "cell_type": "code",
   "execution_count": 23,
   "id": "8c3e41a9",
   "metadata": {},
   "outputs": [],
   "source": [
    "@udf(returnType=BooleanType())\n",
    "def is_member_set(model):\n",
    "    return model in sbf"
   ]
  },
  {
   "cell_type": "code",
   "execution_count": 24,
   "id": "f3389666",
   "metadata": {},
   "outputs": [
    {
     "name": "stdout",
     "output_type": "stream",
     "text": [
      "root\n",
      " |-- serial_number: string (nullable = true)\n",
      " |-- model: string (nullable = true)\n",
      " |-- smart_1_raw: string (nullable = true)\n",
      " |-- failure: double (nullable = true)\n",
      " |-- is_member_set: boolean (nullable = true)\n",
      "\n"
     ]
    },
    {
     "name": "stderr",
     "output_type": "stream",
     "text": [
      "                                                                                \r"
     ]
    },
    {
     "data": {
      "text/plain": [
       "27995"
      ]
     },
     "execution_count": 24,
     "metadata": {},
     "output_type": "execute_result"
    }
   ],
   "source": [
    "df_mar_result = df_mar_active.withColumn(\"is_member_set\", is_member_set(col(\"model\")))\n",
    "\n",
    "df_mar_result.printSchema()\n",
    "df_mar_result.count()"
   ]
  },
  {
   "cell_type": "code",
   "execution_count": 25,
   "id": "6a9e4d98",
   "metadata": {},
   "outputs": [
    {
     "name": "stderr",
     "output_type": "stream",
     "text": [
      "[Stage 86:>                                                         (0 + 1) / 1]\r"
     ]
    },
    {
     "name": "stdout",
     "output_type": "stream",
     "text": [
      "+--------------+--------------------+-----------+-------+-------------+\n",
      "| serial_number|               model|smart_1_raw|failure|is_member_set|\n",
      "+--------------+--------------------+-----------+-------+-------------+\n",
      "|      ZA189JSN|        ST8000NM0055|          0|    0.0|         true|\n",
      "|PL1331LAGBYYVH|HGST HMS5C4040ALE640|          0|    0.0|         true|\n",
      "|     57HBWEE5T|  TOSHIBA MQ01ABF050|          0|    0.0|         true|\n",
      "|PL2331LAHD7U9J|HGST HMS5C4040BLE640|          0|    0.0|         true|\n",
      "|PL2331LAHAZURJ|HGST HMS5C4040BLE640|          0|    0.0|         true|\n",
      "+--------------+--------------------+-----------+-------+-------------+\n",
      "only showing top 5 rows\n",
      "\n"
     ]
    },
    {
     "name": "stderr",
     "output_type": "stream",
     "text": [
      "                                                                                \r"
     ]
    }
   ],
   "source": [
    "df_mar_result.show(5)"
   ]
  },
  {
   "cell_type": "code",
   "execution_count": 26,
   "id": "adcde0f8",
   "metadata": {},
   "outputs": [
    {
     "name": "stderr",
     "output_type": "stream",
     "text": [
      "                                                                                \r"
     ]
    },
    {
     "data": {
      "text/plain": [
       "27473"
      ]
     },
     "execution_count": 26,
     "metadata": {},
     "output_type": "execute_result"
    }
   ],
   "source": [
    "df_mar_result.filter(col(\"is_member_set\") == True).count()"
   ]
  },
  {
   "cell_type": "code",
   "execution_count": null,
   "id": "4215b60d",
   "metadata": {},
   "outputs": [],
   "source": []
  }
 ],
 "metadata": {
  "kernelspec": {
   "display_name": "Python [conda env:bigdata]",
   "language": "python",
   "name": "conda-env-bigdata-py"
  },
  "language_info": {
   "codemirror_mode": {
    "name": "ipython",
    "version": 3
   },
   "file_extension": ".py",
   "mimetype": "text/x-python",
   "name": "python",
   "nbconvert_exporter": "python",
   "pygments_lexer": "ipython3",
   "version": "3.10.9"
  }
 },
 "nbformat": 4,
 "nbformat_minor": 5
}
